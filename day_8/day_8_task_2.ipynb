{
 "cells": [
  {
   "cell_type": "code",
   "execution_count": 1,
   "id": "2d9eac13",
   "metadata": {},
   "outputs": [],
   "source": [
    "test_input = \"\"\"RL\n",
    "\n",
    "AAA = (BBB, CCC)\n",
    "BBB = (DDD, EEE)\n",
    "CCC = (ZZZ, GGG)\n",
    "DDD = (DDD, DDD)\n",
    "EEE = (EEE, EEE)\n",
    "GGG = (GGG, GGG)\n",
    "ZZZ = (ZZZ, ZZZ)\"\"\"\n",
    "\n",
    "test_input_2 = \"\"\"LLR\n",
    "\n",
    "AAA = (BBB, BBB)\n",
    "BBB = (AAA, ZZZ)\n",
    "ZZZ = (ZZZ, ZZZ)\"\"\""
   ]
  },
  {
   "cell_type": "code",
   "execution_count": 2,
   "id": "529fe867",
   "metadata": {},
   "outputs": [],
   "source": [
    "lr_index_map = {\"L\": 0, \"R\": 1}\n",
    "\n",
    "lines = test_input_2.split(\"\\n\")\n",
    "instructions = [lr_index_map[c] for c in lines[0].strip()]"
   ]
  },
  {
   "cell_type": "code",
   "execution_count": 3,
   "id": "ec356903",
   "metadata": {},
   "outputs": [
    {
     "data": {
      "text/plain": [
       "{'AAA': ('BBB', 'BBB'), 'BBB': ('AAA', 'ZZZ'), 'ZZZ': ('ZZZ', 'ZZZ')}"
      ]
     },
     "execution_count": 3,
     "metadata": {},
     "output_type": "execute_result"
    }
   ],
   "source": [
    "nodes = {}\n",
    "\n",
    "for line in lines[2:]:\n",
    "    start, mapping_string = line.strip().split(\" = \")\n",
    "    mapping  = tuple(mapping_string[1:-1].split(\", \"))\n",
    "    \n",
    "    nodes[start] = mapping\n",
    "\n",
    "nodes"
   ]
  },
  {
   "cell_type": "code",
   "execution_count": 4,
   "id": "f3092f93",
   "metadata": {},
   "outputs": [],
   "source": [
    "from itertools import cycle"
   ]
  },
  {
   "cell_type": "code",
   "execution_count": 5,
   "id": "73b003c3",
   "metadata": {},
   "outputs": [
    {
     "name": "stdout",
     "output_type": "stream",
     "text": [
      "Took 6 actions\n"
     ]
    }
   ],
   "source": [
    "instruction_loop = cycle(instructions)\n",
    "\n",
    "current_node = 'AAA'\n",
    "actions_limit = 1000\n",
    "actions_taken = 0\n",
    "\n",
    "while current_node != 'ZZZ':\n",
    "    next_instruction = instruction_loop.__next__()\n",
    "    current_node = nodes[current_node][next_instruction]\n",
    "    \n",
    "    actions_taken += 1\n",
    "    if actions_taken > actions_limit:\n",
    "        break\n",
    "\n",
    "print(f\"Took {actions_taken} actions\")"
   ]
  },
  {
   "cell_type": "code",
   "execution_count": 6,
   "id": "89cff481",
   "metadata": {},
   "outputs": [
    {
     "data": {
      "text/plain": [
       "{'11A': ('11B', 'XXX'),\n",
       " '11B': ('XXX', '11Z'),\n",
       " '11Z': ('11B', 'XXX'),\n",
       " '22A': ('22B', 'XXX'),\n",
       " '22B': ('22C', '22C'),\n",
       " '22C': ('22Z', '22Z'),\n",
       " '22Z': ('22B', '22B'),\n",
       " 'XXX': ('XXX', 'XXX')}"
      ]
     },
     "execution_count": 6,
     "metadata": {},
     "output_type": "execute_result"
    }
   ],
   "source": [
    "test_input_3 = \"\"\"LR\n",
    "\n",
    "11A = (11B, XXX)\n",
    "11B = (XXX, 11Z)\n",
    "11Z = (11B, XXX)\n",
    "22A = (22B, XXX)\n",
    "22B = (22C, 22C)\n",
    "22C = (22Z, 22Z)\n",
    "22Z = (22B, 22B)\n",
    "XXX = (XXX, XXX)\"\"\"\n",
    "\n",
    "lines = test_input_3.split(\"\\n\")\n",
    "instructions = [lr_index_map[c] for c in lines[0].strip()]\n",
    "\n",
    "nodes = {}\n",
    "\n",
    "for line in lines[2:]:\n",
    "    start, mapping_string = line.strip().split(\" = \")\n",
    "    mapping  = tuple(mapping_string[1:-1].split(\", \"))\n",
    "    \n",
    "    nodes[start] = mapping\n",
    "\n",
    "nodes"
   ]
  },
  {
   "cell_type": "code",
   "execution_count": 7,
   "id": "d6b32c41",
   "metadata": {},
   "outputs": [],
   "source": [
    "c_state = [node for node in nodes if node.endswith(\"A\")]"
   ]
  },
  {
   "cell_type": "code",
   "execution_count": 8,
   "id": "ea6bab3f",
   "metadata": {},
   "outputs": [],
   "source": [
    "def is_finished(state):\n",
    "    for element in state:\n",
    "        if not element.endswith(\"Z\"):\n",
    "            return False\n",
    "    return True"
   ]
  },
  {
   "cell_type": "code",
   "execution_count": 9,
   "id": "dbff00fe",
   "metadata": {},
   "outputs": [
    {
     "name": "stdout",
     "output_type": "stream",
     "text": [
      "Took 6 actions\n"
     ]
    }
   ],
   "source": [
    "instruction_loop = cycle(instructions)\n",
    "\n",
    "current_node = 'AAA'\n",
    "actions_limit = 1000\n",
    "actions_taken = 0\n",
    "\n",
    "next_state = None\n",
    "\n",
    "while not is_finished(c_state):\n",
    "    next_instruction = instruction_loop.__next__()\n",
    "    \n",
    "    c_state = [nodes[element][next_instruction] for element in c_state]\n",
    "    \n",
    "    actions_taken += 1\n",
    "    if actions_taken > actions_limit:\n",
    "        break\n",
    "\n",
    "print(f\"Took {actions_taken} actions\")"
   ]
  },
  {
   "cell_type": "code",
   "execution_count": 10,
   "id": "8a7395e7",
   "metadata": {},
   "outputs": [
    {
     "data": {
      "text/plain": [
       "({'11A': ('11B', 'XXX'),\n",
       "  '11B': ('XXX', '11Z'),\n",
       "  '11Z': ('11B', 'XXX'),\n",
       "  '22A': ('22B', 'XXX'),\n",
       "  '22B': ('22C', '22C'),\n",
       "  '22C': ('22Z', '22Z'),\n",
       "  '22Z': ('22B', '22B'),\n",
       "  'XXX': ('XXX', 'XXX')},\n",
       " [0, 1])"
      ]
     },
     "execution_count": 10,
     "metadata": {},
     "output_type": "execute_result"
    }
   ],
   "source": [
    "nodes, instructions"
   ]
  },
  {
   "cell_type": "code",
   "execution_count": 11,
   "id": "adc2dd6d",
   "metadata": {},
   "outputs": [
    {
     "name": "stdout",
     "output_type": "stream",
     "text": [
      "0 22C\n",
      "1 22Z\n",
      "2 22B\n",
      "3 22C\n",
      "4 22Z\n",
      "5 22B\n",
      "6 22C\n",
      "7 22Z\n",
      "8 22B\n",
      "9 22C\n"
     ]
    }
   ],
   "source": [
    "c_state = \"22B\"\n",
    "\n",
    "for i in range(10):\n",
    "    next_instruction = next(instruction_loop)\n",
    "    c_state = nodes[c_state][next_instruction]\n",
    "    print(i, c_state)"
   ]
  },
  {
   "cell_type": "markdown",
   "id": "51d7562d",
   "metadata": {},
   "source": [
    "Construct a wild graph"
   ]
  },
  {
   "cell_type": "code",
   "execution_count": 12,
   "id": "2c2d3d7d",
   "metadata": {},
   "outputs": [
    {
     "data": {
      "text/plain": [
       "{'11A_0': '11B_1',\n",
       " '11B_1': '11Z_0',\n",
       " '11Z_0': '11B_1',\n",
       " '22A_0': '22B_1',\n",
       " '22B_1': '22C_0',\n",
       " '22C_0': '22Z_1',\n",
       " '22Z_1': '22B_0',\n",
       " '22B_0': '22C_1',\n",
       " '22C_1': '22Z_0',\n",
       " '22Z_0': '22B_1'}"
      ]
     },
     "execution_count": 12,
     "metadata": {},
     "output_type": "execute_result"
    }
   ],
   "source": [
    "starting_nodes = [node for node in nodes if node.endswith(\"A\")]\n",
    "\n",
    "max_iter = 1_000_000_000\n",
    "\n",
    "wild_mapping = dict()\n",
    "\n",
    "for starting_node in starting_nodes:\n",
    "    seq_idx = 0\n",
    "    c_node = starting_node\n",
    "    while True:\n",
    "        direction = instructions[seq_idx]\n",
    "        next_node = nodes[c_node][direction]\n",
    "        \n",
    "        map_id = f\"{c_node}_{seq_idx}\"\n",
    "        if map_id in wild_mapping:\n",
    "            break\n",
    "        \n",
    "        next_seq_idx = (seq_idx + 1) % len(instructions)\n",
    "        next_map_idx = f\"{next_node}_{next_seq_idx}\"\n",
    "        wild_mapping[map_id] = next_map_idx\n",
    "        \n",
    "        c_node = next_node\n",
    "        seq_idx = next_seq_idx\n",
    "        \n",
    "wild_mapping"
   ]
  },
  {
   "cell_type": "code",
   "execution_count": 13,
   "id": "672e273a",
   "metadata": {},
   "outputs": [],
   "source": [
    "def parse(filename):\n",
    "    with open(filename, \"r\", encoding=\"utf-8\") as f:\n",
    "        lines = f.readlines()\n",
    "\n",
    "    lr_index_map = {\"L\": 0, \"R\": 1}\n",
    "\n",
    "    instructions = [lr_index_map[c] for c in lines[0].strip()]\n",
    "\n",
    "    nodes = {}\n",
    "\n",
    "    for line in lines[2:]:\n",
    "        start, mapping_string = line.strip().split(\" = \")\n",
    "        mapping = tuple(mapping_string[1:-1].split(\", \"))\n",
    "\n",
    "        nodes[start] = mapping\n",
    "\n",
    "    return instructions, nodes"
   ]
  },
  {
   "cell_type": "code",
   "execution_count": 16,
   "id": "24e5e107",
   "metadata": {},
   "outputs": [],
   "source": [
    "instructions, nodes = parse(\"input.txt\")"
   ]
  },
  {
   "cell_type": "markdown",
   "id": "f3f24a4d",
   "metadata": {},
   "source": [
    "Nice, this looks feasible. We know that for each starting point, we'll traverse some distance and then join a loop. We can now go about finding the lengths of each of the loops."
   ]
  },
  {
   "cell_type": "code",
   "execution_count": 17,
   "id": "c1bec6a7",
   "metadata": {},
   "outputs": [
    {
     "name": "stdout",
     "output_type": "stream",
     "text": [
      "Total map contains 107331 elements\n"
     ]
    }
   ],
   "source": [
    "starting_nodes = [node for node in nodes if node.endswith(\"A\")]\n",
    "\n",
    "max_iter = 1_000_000_000\n",
    "n_iter = 0\n",
    "\n",
    "wild_mapping = dict()\n",
    "loops = []\n",
    "loop_lengths = []\n",
    "distance_to_loop = []\n",
    "end_idxs = []\n",
    "\n",
    "for starting_node in starting_nodes:\n",
    "    seq_idx = 0\n",
    "    c_node = starting_node\n",
    "    nodes_seen = []\n",
    "        \n",
    "    while True:\n",
    "        direction = instructions[seq_idx]\n",
    "        next_node = nodes[c_node][direction]\n",
    "        \n",
    "        map_id = f\"{c_node}_{seq_idx}\"\n",
    "        \n",
    "        if map_id in wild_mapping:\n",
    "            # We've found a loop so need to figure our whats in it and how long it is.\n",
    "            if map_id not in nodes_seen:\n",
    "                print(\"Found existing loop\")\n",
    "            else:\n",
    "#                 print(f\"New loop starting at {map_id}\", nodes_seen)\n",
    "                start_of_loop = nodes_seen.index(map_id)\n",
    "                loop = nodes_seen[start_of_loop:].copy()\n",
    "                \n",
    "                loops.append(loop)\n",
    "                loop_lengths.append(len(loop))\n",
    "                distance_to_loop.append(len(nodes_seen) - len(loop))\n",
    "            break\n",
    "        \n",
    "        nodes_seen.append(map_id)\n",
    "        next_seq_idx = (seq_idx + 1) % len(instructions)\n",
    "        next_map_idx = f\"{next_node}_{next_seq_idx}\"\n",
    "        wild_mapping[map_id] = next_map_idx\n",
    "        \n",
    "        # Check if we've got an end\n",
    "        if c_node.endswith(\"Z\"):\n",
    "            end_idxs.append(len(nodes_seen) - 1) \n",
    "        \n",
    "        c_node = next_node\n",
    "        \n",
    "        seq_idx = next_seq_idx\n",
    "        \n",
    "        n_iter += 1\n",
    "        if n_iter >= max_iter:\n",
    "            break\n",
    "        \n",
    "print(f\"Total map contains {len(wild_mapping)} elements\")"
   ]
  },
  {
   "cell_type": "markdown",
   "id": "b93e3305",
   "metadata": {},
   "source": [
    "so we might come across the end node twice in a single loop. There's definitely a simpler solution to this! But I'll forge on. \n",
    "\n",
    "Here we have two loops, one which starts at the second element, and then sees the end nodes every 2 iterations. The second also starts on the second element, and sees the end node every 3 iterations (is it always true that even though there are two ends we'll see them equally spaced?)"
   ]
  },
  {
   "cell_type": "code",
   "execution_count": 18,
   "id": "3e8dfc24",
   "metadata": {},
   "outputs": [
    {
     "data": {
      "text/plain": [
       "{16529}"
      ]
     },
     "execution_count": 18,
     "metadata": {},
     "output_type": "execute_result"
    }
   ],
   "source": [
    "def get_end_points(loop):\n",
    "    end_idxs = set()\n",
    "    for i, node_id in enumerate(loop):\n",
    "        if node_id[2] == \"Z\":\n",
    "            end_idxs.add(i)\n",
    "    return end_idxs\n",
    "get_end_points(loops[3])"
   ]
  },
  {
   "cell_type": "code",
   "execution_count": 19,
   "id": "43ef4058",
   "metadata": {},
   "outputs": [
    {
     "data": {
      "text/plain": [
       "[2, 2, 5, 2, 2, 2]"
      ]
     },
     "execution_count": 19,
     "metadata": {},
     "output_type": "execute_result"
    }
   ],
   "source": [
    "distance_to_loop"
   ]
  },
  {
   "cell_type": "code",
   "execution_count": 20,
   "id": "7a6a469d",
   "metadata": {},
   "outputs": [
    {
     "data": {
      "text/plain": [
       "[21409, 14363, 15989, 16531, 19241, 19783]"
      ]
     },
     "execution_count": 20,
     "metadata": {},
     "output_type": "execute_result"
    }
   ],
   "source": [
    "loop_lengths"
   ]
  },
  {
   "cell_type": "code",
   "execution_count": 21,
   "id": "107b7bc3",
   "metadata": {},
   "outputs": [
    {
     "data": {
      "text/plain": [
       "[21409, 14363, 15989, 16531, 19241, 19783]"
      ]
     },
     "execution_count": 21,
     "metadata": {},
     "output_type": "execute_result"
    }
   ],
   "source": [
    "end_idxs"
   ]
  },
  {
   "cell_type": "markdown",
   "id": "30e90b9d",
   "metadata": {},
   "source": [
    "So what do we do with this information now? When will all of these loops syncronise? So it seems like for 5 of the 6 loops the \"end\" two elements before the end of the loop, and for the other its 5 elements before. "
   ]
  },
  {
   "cell_type": "code",
   "execution_count": 22,
   "id": "1ec264bc",
   "metadata": {},
   "outputs": [],
   "source": [
    "from functools import reduce"
   ]
  },
  {
   "cell_type": "markdown",
   "id": "aee63d2f",
   "metadata": {},
   "source": [
    "Thats a lot of different possible combinations! We can solve this by taking one loop to be our \"anchor\", and going around that until each of the other loops are aligned. To find out how many times we should go around each loop we need to find the difference in length between the loops, and calculate how often the two are aligned.\n",
    "\n",
    "The misalignment between loops is the distance to the end node on the other loop when we first encounter the end on our main loop.\n",
    "\n",
    "This nice thing about this approach is we can check our working by running the same algorithm using each loop as our main loop."
   ]
  },
  {
   "cell_type": "code",
   "execution_count": 23,
   "id": "4b600426",
   "metadata": {},
   "outputs": [
    {
     "name": "stdout",
     "output_type": "stream",
     "text": [
      "[7046, 5420, 4878, 2168, 1626]\n",
      "[7046, 5420, 4878, 2168, 1626]\n"
     ]
    }
   ],
   "source": [
    "MAIN_LOOP = 0\n",
    "\n",
    "difference_per_loop = []\n",
    "offsets = []\n",
    "\n",
    "for i in range(0,len(starting_nodes)):\n",
    "    if i == MAIN_LOOP:\n",
    "        continue\n",
    "    else:\n",
    "        difference_per_loop.append(loop_lengths[MAIN_LOOP] - loop_lengths[i])\n",
    "        offsets.append(end_idxs[MAIN_LOOP] - end_idxs[i])\n",
    "    \n",
    "print(difference_per_loop)\n",
    "print(offsets)"
   ]
  },
  {
   "cell_type": "markdown",
   "id": "612d5752",
   "metadata": {},
   "source": [
    "Based on these offsets and difference per loops, which happen to be the same number, we need to find out how many times we should go round the main loop to make all of them modulo their loop lengths = 0."
   ]
  },
  {
   "cell_type": "code",
   "execution_count": 24,
   "id": "0b644db9",
   "metadata": {},
   "outputs": [],
   "source": [
    "import math"
   ]
  },
  {
   "cell_type": "code",
   "execution_count": 26,
   "id": "669685d7",
   "metadata": {},
   "outputs": [
    {
     "name": "stdout",
     "output_type": "stream",
     "text": [
      "11\n"
     ]
    }
   ],
   "source": [
    "offset = 2\n",
    "loop_length = 21\n",
    "diff_per_loop = 17\n",
    "\n",
    "def find_times_round_loop(offset, loop_length, diff_per_loop):\n",
    "    times_round = 0\n",
    "\n",
    "    while offset != 0:\n",
    "        offset = (offset + diff_per_loop) % loop_length\n",
    "        times_round += 1\n",
    "    return times_round\n",
    "\n",
    "print(find_times_round_loop(offset, loop_length, diff_per_loop))"
   ]
  },
  {
   "cell_type": "markdown",
   "id": "5d10aae7",
   "metadata": {},
   "source": [
    "We need to find out how many times we need to go round each loop to overcome the offset. It is also convenient that going round one more time will bring each of them back to the original position."
   ]
  },
  {
   "cell_type": "code",
   "execution_count": 27,
   "id": "6bccc3ad",
   "metadata": {},
   "outputs": [
    {
     "name": "stdout",
     "output_type": "stream",
     "text": [
      "[52, 58, 60, 70, 72]\n"
     ]
    }
   ],
   "source": [
    "times_round_loop = []\n",
    "\n",
    "for i in range(0,len(starting_nodes)):\n",
    "    if i == MAIN_LOOP:\n",
    "        continue\n",
    "    else:\n",
    "        difference = loop_lengths[MAIN_LOOP] - loop_lengths[i]\n",
    "        offset = end_idxs[MAIN_LOOP] - end_idxs[i]\n",
    "        times_round_loop.append(find_times_round_loop(offset, loop_lengths[i], difference))\n",
    "    \n",
    "print(times_round_loop)"
   ]
  },
  {
   "cell_type": "markdown",
   "id": "39fed5f5",
   "metadata": {},
   "source": [
    "These look like some nice numbers - I did forget that we actually want to find out how many times we should go round the loop to get back to where we started, so I need to add 1 onto each of these outputs.\n",
    "\n",
    "We can then see how many times we'd have to go round the main loop to return each of the loops back to where they started - effectively this shows us how long the main sequence is.\n",
    "\n",
    "Now comes some convient trickery. To overcome the offset of each loop, we need to go round one fewer times. However we also go loop_length steps to get to our starting position. These two cancel eachother out, and this means our final answer will be the length of the looping sequence * length of the main loop (loop 0 in this case).\n",
    "\n",
    "We can find the length of the loop sequence as the lowest common multiple of the number of times you'd need to go round each loop to get back to where you started."
   ]
  },
  {
   "cell_type": "code",
   "execution_count": 31,
   "id": "7c14b33c",
   "metadata": {},
   "outputs": [
    {
     "name": "stdout",
     "output_type": "stream",
     "text": [
      "Loop sequence length: 988641701\n"
     ]
    }
   ],
   "source": [
    "loop_sequence_length = math.lcm(*[t + 1 for t in times_round_loop])\n",
    "print(f\"Loop sequence length: {loop_sequence_length}\")"
   ]
  },
  {
   "cell_type": "code",
   "execution_count": 33,
   "id": "62987f87",
   "metadata": {},
   "outputs": [
    {
     "name": "stdout",
     "output_type": "stream",
     "text": [
      "All camels will be on end nodes after 21165830176709 steps\n"
     ]
    }
   ],
   "source": [
    "n_steps = loop_sequence_length * loop_lengths[MAIN_LOOP]\n",
    "print(f\"All camels will be on end nodes after {n_steps} steps\")"
   ]
  },
  {
   "cell_type": "markdown",
   "id": "9c140422",
   "metadata": {},
   "source": [
    "Phew that was a hard one!"
   ]
  }
 ],
 "metadata": {
  "kernelspec": {
   "display_name": "Python [conda env:aoc]",
   "language": "python",
   "name": "conda-env-aoc-py"
  },
  "language_info": {
   "codemirror_mode": {
    "name": "ipython",
    "version": 3
   },
   "file_extension": ".py",
   "mimetype": "text/x-python",
   "name": "python",
   "nbconvert_exporter": "python",
   "pygments_lexer": "ipython3",
   "version": "3.10.8"
  }
 },
 "nbformat": 4,
 "nbformat_minor": 5
}
